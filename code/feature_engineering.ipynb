{
 "cells": [
  {
   "cell_type": "markdown",
   "metadata": {},
   "source": [
    "# What is Feature Engineering\n",
    "## Derek Caramella"
   ]
  },
  {
   "cell_type": "code",
   "execution_count": 14,
   "metadata": {},
   "outputs": [],
   "source": [
    "import os\n",
    "\n",
    "import pandas as pd\n",
    "import numpy as np\n",
    "\n",
    "from sklearn.ensemble import RandomForestRegressor\n",
    "from sklearn.model_selection import cross_val_score\n",
    "\n",
    "import plotly.express as px"
   ]
  },
  {
   "cell_type": "code",
   "execution_count": 15,
   "metadata": {},
   "outputs": [
    {
     "data": {
      "text/html": [
       "<div>\n",
       "<style scoped>\n",
       "    .dataframe tbody tr th:only-of-type {\n",
       "        vertical-align: middle;\n",
       "    }\n",
       "\n",
       "    .dataframe tbody tr th {\n",
       "        vertical-align: top;\n",
       "    }\n",
       "\n",
       "    .dataframe thead th {\n",
       "        text-align: right;\n",
       "    }\n",
       "</style>\n",
       "<table border=\"1\" class=\"dataframe\">\n",
       "  <thead>\n",
       "    <tr style=\"text-align: right;\">\n",
       "      <th></th>\n",
       "      <th>cement</th>\n",
       "      <th>blast_furnace_slag</th>\n",
       "      <th>fly_ash</th>\n",
       "      <th>water</th>\n",
       "      <th>super_plasticizer</th>\n",
       "      <th>coarse_aggregate</th>\n",
       "      <th>fine_aggregate</th>\n",
       "      <th>age</th>\n",
       "      <th>compressive_strength</th>\n",
       "    </tr>\n",
       "  </thead>\n",
       "  <tbody>\n",
       "    <tr>\n",
       "      <th>0</th>\n",
       "      <td>540.0</td>\n",
       "      <td>0.0</td>\n",
       "      <td>0.0</td>\n",
       "      <td>162.0</td>\n",
       "      <td>2.5</td>\n",
       "      <td>1040.0</td>\n",
       "      <td>676.0</td>\n",
       "      <td>28</td>\n",
       "      <td>79.99</td>\n",
       "    </tr>\n",
       "    <tr>\n",
       "      <th>1</th>\n",
       "      <td>540.0</td>\n",
       "      <td>0.0</td>\n",
       "      <td>0.0</td>\n",
       "      <td>162.0</td>\n",
       "      <td>2.5</td>\n",
       "      <td>1055.0</td>\n",
       "      <td>676.0</td>\n",
       "      <td>28</td>\n",
       "      <td>61.89</td>\n",
       "    </tr>\n",
       "    <tr>\n",
       "      <th>2</th>\n",
       "      <td>332.5</td>\n",
       "      <td>142.5</td>\n",
       "      <td>0.0</td>\n",
       "      <td>228.0</td>\n",
       "      <td>0.0</td>\n",
       "      <td>932.0</td>\n",
       "      <td>594.0</td>\n",
       "      <td>270</td>\n",
       "      <td>40.27</td>\n",
       "    </tr>\n",
       "  </tbody>\n",
       "</table>\n",
       "</div>"
      ],
      "text/plain": [
       "   cement  blast_furnace_slag  fly_ash  water  super_plasticizer  \\\n",
       "0   540.0                 0.0      0.0  162.0                2.5   \n",
       "1   540.0                 0.0      0.0  162.0                2.5   \n",
       "2   332.5               142.5      0.0  228.0                0.0   \n",
       "\n",
       "   coarse_aggregate  fine_aggregate  age  compressive_strength  \n",
       "0            1040.0           676.0   28                 79.99  \n",
       "1            1055.0           676.0   28                 61.89  \n",
       "2             932.0           594.0  270                 40.27  "
      ]
     },
     "execution_count": 15,
     "metadata": {},
     "output_type": "execute_result"
    }
   ],
   "source": [
    "concrete_df = pd.read_csv(filepath_or_buffer='../data/concrete.csv')\n",
    "concrete_df.columns = ['cement', 'blast_furnace_slag', 'fly_ash', 'water', 'super_plasticizer', 'coarse_aggregate', 'fine_aggregate', 'age', 'compressive_strength']\n",
    "concrete_df.head(n=3)"
   ]
  },
  {
   "cell_type": "markdown",
   "metadata": {},
   "source": [
    "## Baseline Model"
   ]
  },
  {
   "cell_type": "code",
   "execution_count": 17,
   "metadata": {},
   "outputs": [
    {
     "name": "stdout",
     "output_type": "stream",
     "text": [
      "MAE Baseline: 8.232\n"
     ]
    }
   ],
   "source": [
    "X_features_ls = ['cement', 'blast_furnace_slag', 'fly_ash', 'water', 'super_plasticizer', 'coarse_aggregate', 'fine_aggregate', 'age']\n",
    "y_train_feature_str = 'compressive_strength'\n",
    "\n",
    "X_train = concrete_df[X_features_ls].copy()\n",
    "y_train = concrete_df[y_train_feature_str]\n",
    "\n",
    "# Baseline Model\n",
    "rf_clf = RandomForestRegressor(criterion='absolute_error', random_state=0)\n",
    "# The reason for using the negative is that when using cross-validation for model selection, scikit-learn always maximizes the score, so by returning the negative of the error, it is effectively minimizing the error.\n",
    "# We use cross-validation to assess the sensitivity of the training data on the generalizability of the model\n",
    "cv_baseline_score = cross_val_score(rf_clf, X=X_train, y=y_train, cv=5, scoring='neg_mean_absolute_error')\n",
    "avg_baseline_score = np.abs(cv_baseline_score).mean()\n",
    "\n",
    "print(f\"MAE Baseline: {avg_baseline_score:,.3f}\")"
   ]
  },
  {
   "cell_type": "markdown",
   "metadata": {},
   "source": [
    "## Ratios\n",
    "If you ever cook at home, you might know that the ratio of ingredients in a recipe is usually a better predictor of how the recipe turns out than their absolute amounts. We might reason then that ratios of the features above would be a good predictor of `CompressiveStrength`."
   ]
  },
  {
   "cell_type": "code",
   "execution_count": 19,
   "metadata": {},
   "outputs": [
    {
     "name": "stdout",
     "output_type": "stream",
     "text": [
      "MAE Baseline: 7.948\n"
     ]
    }
   ],
   "source": [
    "df = concrete_df.copy()\n",
    "df['fc_ratio'] = df['fine_aggregate'] / df['coarse_aggregate']\n",
    "df['agg_cmt_ratio'] = (df['coarse_aggregate'] + df['fine_aggregate']) / df['cement']\n",
    "df['water_cmt_ratio'] = df['water'] / df['cement']\n",
    "\n",
    "\n",
    "X_features_ls = ['cement', 'blast_furnace_slag', 'fly_ash', 'water', 'super_plasticizer', 'coarse_aggregate', 'fine_aggregate', 'age', 'fc_ratio', 'agg_cmt_ratio', 'water_cmt_ratio']\n",
    "y_train_feature_str = 'compressive_strength'\n",
    "\n",
    "X_train = df[X_features_ls].copy()\n",
    "y_train = df[y_train_feature_str]\n",
    "\n",
    "# Ratio Model\n",
    "rf_clf = RandomForestRegressor(criterion='absolute_error', random_state=0)\n",
    "# The reason for using the negative is that when using cross-validation for model selection, scikit-learn always maximizes the score, so by returning the negative of the error, it is effectively minimizing the error.\n",
    "# We use cross-validation to assess the sensitivity of the training data on the generalizability of the model\n",
    "cv_baseline_score = cross_val_score(rf_clf, X=X_train, y=y_train, cv=5, scoring='neg_mean_absolute_error')\n",
    "avg_baseline_score = np.abs(cv_baseline_score).mean()\n",
    "\n",
    "print(f\"MAE Baseline: {avg_baseline_score:,.3f}\")"
   ]
  },
  {
   "cell_type": "code",
   "execution_count": null,
   "metadata": {},
   "outputs": [],
   "source": []
  }
 ],
 "metadata": {
  "kernelspec": {
   "display_name": "production_venv",
   "language": "python",
   "name": "production_venv"
  },
  "language_info": {
   "codemirror_mode": {
    "name": "ipython",
    "version": 3
   },
   "file_extension": ".py",
   "mimetype": "text/x-python",
   "name": "python",
   "nbconvert_exporter": "python",
   "pygments_lexer": "ipython3",
   "version": "3.12.2"
  }
 },
 "nbformat": 4,
 "nbformat_minor": 2
}
